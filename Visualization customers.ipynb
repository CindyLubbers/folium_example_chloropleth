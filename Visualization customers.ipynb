{
 "cells": [
  {
   "cell_type": "code",
   "execution_count": 92,
   "metadata": {
    "collapsed": false
   },
   "outputs": [],
   "source": [
    "import folium\n",
    "import pandas as pd\n",
    "\n",
    "bundeslaender_geo = r'data/hoch_bundeslaender_deutschland.geojson'\n",
    "provincies_geo = r'data/provincies_nederland.geojson'\n",
    "guests_csv = r'data/FLG_Buchungen.csv'\n",
    "guests = r'data/FLG_Buchungen.xlsx'\n",
    "\n",
    "guests_df = pd.read_excel(guests, sheetname='Kunden', encoding='iso-8859-1')[['Klantnummer', 'Staat of provincie', 'Land']].dropna()\n",
    "buchungen_df = pd.read_excel(guests, sheetname='Buchungen', encoding='iso-8859-1')[['Kunden Nr', 'Bnummer', '# Übern.']].dropna()\n",
    "\n",
    "guests_df.columns = ['clientnumber', 'state', 'country']\n",
    "buchungen_df.columns = ['clientnumber', 'bookingnumber', 'duration_in_days']\n",
    "\n",
    "##### CLEANING THE DATA ######\n",
    "# Make sure the states do not contain any umlauts, because the matching will fail. \n",
    "guests_df = guests_df.replace(to_replace='Thüringen', value='Thueringen').replace(to_replace='Baden-Württemberg', \n",
    "                                                                                  value='Baden-Wuerttemberg')\n",
    "# Delete Familie Lubbers and Benning\n",
    "buchungen_df = buchungen_df[~buchungen_df.clientnumber.isin([0, 1, 82])]\n",
    "# Also delete stays of 0 days which are Hans' stays (they should not be in there after the previous step)\n",
    "buchungen_df = buchungen_df[~buchungen_df.duration_in_days.isin([0])]\n",
    "\n",
    "buchungen_df = buchungen_df.merge(guests_df, left_on='clientnumber', right_on='clientnumber', how='left')\n",
    "buchungen_counts =  pd.DataFrame(buchungen_df['state'].value_counts()).reset_index()\n",
    "buchungen_counts.columns = ['state', 'count']\n",
    "\n"
   ]
  },
  {
   "cell_type": "code",
   "execution_count": 102,
   "metadata": {
    "collapsed": false
   },
   "outputs": [],
   "source": [
    "buchungen_mean_duration = buchungen_df.groupby(by='state').mean().reset_index()"
   ]
  },
  {
   "cell_type": "code",
   "execution_count": 103,
   "metadata": {
    "collapsed": false
   },
   "outputs": [
    {
     "data": {
      "text/html": [
       "<div>\n",
       "<table border=\"1\" class=\"dataframe\">\n",
       "  <thead>\n",
       "    <tr style=\"text-align: right;\">\n",
       "      <th></th>\n",
       "      <th>state</th>\n",
       "      <th>duration_in_days</th>\n",
       "    </tr>\n",
       "  </thead>\n",
       "  <tbody>\n",
       "    <tr>\n",
       "      <th>0</th>\n",
       "      <td>Baden-Wuerttemberg</td>\n",
       "      <td>7.500000</td>\n",
       "    </tr>\n",
       "    <tr>\n",
       "      <th>1</th>\n",
       "      <td>Bayern</td>\n",
       "      <td>7.615385</td>\n",
       "    </tr>\n",
       "    <tr>\n",
       "      <th>2</th>\n",
       "      <td>Berlin</td>\n",
       "      <td>5.461538</td>\n",
       "    </tr>\n",
       "    <tr>\n",
       "      <th>3</th>\n",
       "      <td>Bern</td>\n",
       "      <td>4.000000</td>\n",
       "    </tr>\n",
       "    <tr>\n",
       "      <th>4</th>\n",
       "      <td>Brandenburg</td>\n",
       "      <td>8.150000</td>\n",
       "    </tr>\n",
       "    <tr>\n",
       "      <th>5</th>\n",
       "      <td>Hamburg</td>\n",
       "      <td>6.000000</td>\n",
       "    </tr>\n",
       "    <tr>\n",
       "      <th>6</th>\n",
       "      <td>Hessen</td>\n",
       "      <td>7.000000</td>\n",
       "    </tr>\n",
       "    <tr>\n",
       "      <th>7</th>\n",
       "      <td>Limburg</td>\n",
       "      <td>7.000000</td>\n",
       "    </tr>\n",
       "    <tr>\n",
       "      <th>8</th>\n",
       "      <td>Małopolskie</td>\n",
       "      <td>4.000000</td>\n",
       "    </tr>\n",
       "    <tr>\n",
       "      <th>9</th>\n",
       "      <td>Mecklenburg-Vorpommern</td>\n",
       "      <td>6.111111</td>\n",
       "    </tr>\n",
       "    <tr>\n",
       "      <th>10</th>\n",
       "      <td>Niedersachsen</td>\n",
       "      <td>7.538462</td>\n",
       "    </tr>\n",
       "    <tr>\n",
       "      <th>11</th>\n",
       "      <td>Noord Brabant</td>\n",
       "      <td>6.500000</td>\n",
       "    </tr>\n",
       "    <tr>\n",
       "      <th>12</th>\n",
       "      <td>Noord-Holland</td>\n",
       "      <td>6.666667</td>\n",
       "    </tr>\n",
       "    <tr>\n",
       "      <th>13</th>\n",
       "      <td>Nordrhein-Westfalen</td>\n",
       "      <td>8.500000</td>\n",
       "    </tr>\n",
       "    <tr>\n",
       "      <th>14</th>\n",
       "      <td>Overijssel</td>\n",
       "      <td>9.750000</td>\n",
       "    </tr>\n",
       "    <tr>\n",
       "      <th>15</th>\n",
       "      <td>Rheinland-Pfalz</td>\n",
       "      <td>5.500000</td>\n",
       "    </tr>\n",
       "    <tr>\n",
       "      <th>16</th>\n",
       "      <td>Sachsen</td>\n",
       "      <td>4.666667</td>\n",
       "    </tr>\n",
       "    <tr>\n",
       "      <th>17</th>\n",
       "      <td>Sachsen-Anhalt</td>\n",
       "      <td>5.285714</td>\n",
       "    </tr>\n",
       "    <tr>\n",
       "      <th>18</th>\n",
       "      <td>Schleswig-Holstein</td>\n",
       "      <td>5.285714</td>\n",
       "    </tr>\n",
       "    <tr>\n",
       "      <th>19</th>\n",
       "      <td>Thueringen</td>\n",
       "      <td>5.647059</td>\n",
       "    </tr>\n",
       "    <tr>\n",
       "      <th>20</th>\n",
       "      <td>Zuid-Holland</td>\n",
       "      <td>9.000000</td>\n",
       "    </tr>\n",
       "  </tbody>\n",
       "</table>\n",
       "</div>"
      ],
      "text/plain": [
       "                     state  duration_in_days\n",
       "0       Baden-Wuerttemberg          7.500000\n",
       "1                   Bayern          7.615385\n",
       "2                   Berlin          5.461538\n",
       "3                     Bern          4.000000\n",
       "4              Brandenburg          8.150000\n",
       "5                  Hamburg          6.000000\n",
       "6                   Hessen          7.000000\n",
       "7                  Limburg          7.000000\n",
       "8              Małopolskie          4.000000\n",
       "9   Mecklenburg-Vorpommern          6.111111\n",
       "10           Niedersachsen          7.538462\n",
       "11           Noord Brabant          6.500000\n",
       "12           Noord-Holland          6.666667\n",
       "13     Nordrhein-Westfalen          8.500000\n",
       "14              Overijssel          9.750000\n",
       "15         Rheinland-Pfalz          5.500000\n",
       "16                 Sachsen          4.666667\n",
       "17          Sachsen-Anhalt          5.285714\n",
       "18      Schleswig-Holstein          5.285714\n",
       "19              Thueringen          5.647059\n",
       "20            Zuid-Holland          9.000000"
      ]
     },
     "execution_count": 103,
     "metadata": {},
     "output_type": "execute_result"
    }
   ],
   "source": [
    "buchungen_mean_duration"
   ]
  },
  {
   "cell_type": "code",
   "execution_count": null,
   "metadata": {
    "collapsed": true
   },
   "outputs": [],
   "source": []
  },
  {
   "cell_type": "code",
   "execution_count": null,
   "metadata": {
    "collapsed": true
   },
   "outputs": [],
   "source": []
  },
  {
   "cell_type": "code",
   "execution_count": 106,
   "metadata": {
    "collapsed": false
   },
   "outputs": [],
   "source": [
    "#Let Folium determine the scale\n",
    "map = folium.Map(location=[51.3, 10], zoom_start=5.5)\n",
    "# Germany\n",
    "map.choropleth(geo_path=bundeslaender_geo, data=buchungen_mean_duration,\n",
    "             columns=['state', 'duration_in_days'],\n",
    "             key_on='feature.properties.NAME_1',\n",
    "             fill_color='YlGn', fill_opacity=0.7, line_opacity=0.2,\n",
    "             legend_name='Durchschnittliche Anzahl Übernachtungen')\n",
    "# Netherlands\n",
    "map.choropleth(geo_path=provincies_geo, data=buchungen_mean_duration,\n",
    "             columns=['state', 'duration_in_days'],\n",
    "             key_on='feature.properties.name',\n",
    "             fill_color='YlGn', fill_opacity=0.7, line_opacity=0.2,\n",
    "             legend_name='Durchschnittliche Anzahl Übernachtungen')\n",
    "# map\n",
    "map.save('uebernachtungen.html')"
   ]
  },
  {
   "cell_type": "code",
   "execution_count": 95,
   "metadata": {
    "collapsed": false
   },
   "outputs": [],
   "source": [
    "#Let Folium determine the scale\n",
    "map = folium.Map(location=[51.3, 10], zoom_start=5.5)\n",
    "# Germany\n",
    "map.choropleth(geo_path=bundeslaender_geo, data=buchungen_counts,\n",
    "             columns=['state', 'count'],\n",
    "             key_on='feature.properties.NAME_1',\n",
    "             fill_color='YlGn', fill_opacity=0.7, line_opacity=0.2,\n",
    "             legend_name='Anzahl Buchungen')\n",
    "# Netherlands\n",
    "map.choropleth(geo_path=provincies_geo, data=buchungen_counts,\n",
    "             columns=['state', 'count'],\n",
    "             key_on='feature.properties.name',\n",
    "             fill_color='YlGn', fill_opacity=0.7, line_opacity=0.2,\n",
    "             legend_name='Anzahl Buchungen')\n",
    "# map\n",
    "map.save('buchungen.html')"
   ]
  },
  {
   "cell_type": "code",
   "execution_count": null,
   "metadata": {
    "collapsed": true
   },
   "outputs": [],
   "source": []
  }
 ],
 "metadata": {
  "kernelspec": {
   "display_name": "Python [default]",
   "language": "python",
   "name": "python3"
  },
  "language_info": {
   "codemirror_mode": {
    "name": "ipython",
    "version": 3
   },
   "file_extension": ".py",
   "mimetype": "text/x-python",
   "name": "python",
   "nbconvert_exporter": "python",
   "pygments_lexer": "ipython3",
   "version": "3.5.2"
  }
 },
 "nbformat": 4,
 "nbformat_minor": 1
}
